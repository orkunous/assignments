{
 "cells": [
  {
   "cell_type": "markdown",
   "metadata": {},
   "source": [
    "# VIX Market Volatility Index and Its Effect On Market Conditions: An Empirical Analysis\n",
    "\n"
   ]
  },
  {
   "cell_type": "markdown",
   "metadata": {},
   "source": [
    "- Berk Orkun Isa (2013712) \n",
    "- Jakub Zagorowicz (2017899)"
   ]
  },
  {
   "cell_type": "markdown",
   "metadata": {},
   "source": [
    "### Introduction\n",
    "Our aim in this study is to examine the relation between VIX index indicator for market volatility, which is based on market expectations on short-term volatility of S&P 500 index of options and stock prices, and market reactions to it through major macroeconomic indicators, namely bond yields and interest rates. Our primary focus is to check if markets react to volatility changes as accordingly to monetary theory and efficient market hypothesis predictions. \n",
    "\n",
    "### Motivation\n",
    "Since the Eugene Fama's Efficient Market Hypothesis, many debates took place about the literature of perfect information assumption in financial markets and its feedback-loop effect on macroeconomic stance. Starting from its establishment, VIX index has always been regarded as the most useful and effective indicator to fathom risk appetite in global financial markets thus we inferred through the governing dynamics of financial markets that an increase in the VIX index should result in a move in bond yields which has opposite direction. We made this inference on the grounds that, according to \"école Chicago\" i.e. mainstream monetary theory, an increase in market volatility should raise uncertainty and render government bonds as safer assets, henceforth accelerating the demand for them. This dynamic cycle, in turn, feeds back market volatility. The mentioned relation therefore created the core of our motivation to conduct empirical research on the issue and to find out if the assumptions of EMH and monetary theory are holding. \n",
    "\n",
    "### Method\n",
    "We used monthly data for VIX index, US Bond Yields and Effective Interest Rates. We eliminated the option of using quarterly data for the reason that market volatility is highly sensitive and using it may distort robustness. First, we used couple of historical data representations for VIX index and US Bond Yields to check for historical trends, second deployed simple statistics for 11-year span to examine the characteristics of the data, third we checked for the correlation between VIX index and US Bond Yields and run a naive simple regression, and finally examined whether markets are more sensitive to volatility changes during low volatility periods or during high volatility periods. \n",
    "\n",
    "### Assumptions\n",
    "Our study assumes that financial markets react and adjust to ever-changing market structure and process the latest information i.e. no information disregarded by market makers. Nonetheless, they have the liberty to act according to their beliefs and preferences thus there is not a binding rationality assumption. Moreover, our work assumes that participant in financial markets always involve in market making on the purpose of clearing the market, i.e. market forces always try to reach the equilibrium state. \n",
    "\n",
    "### Testing the Targeted Theoretical Predictions\n",
    "Monetary theory dynamical analysis approach to market interest is basically based on two important dynamic feedback mechanisms: monetary policy stance and fiscal policy stance. If monetary authority seeks an expansionary (contractionary) policy, through increased (decreased) volume of available liquidity provided to markets, ceteris paribus, market interest rate declines (increases). If government seeks out an expansionary (contractionary) policy, through accelerated government expenditures, government would have the necessity to borrow more from external/internal sources, thus increases the bond yields to attract more bond buyers i.e. to increase the demand for sovereign bonds. However, this is not the only force that changes the yield curve of government bonds. Being regarded as the most secure investment of a country which has a developed financial superstructure and stable public finances, at the times when uncertainty increases, foreign/domestic investors tend to buy more sovereign bonds. This relation explicitly implies that during the periods with high volatility i.e increased uncertainty, the demand for sovereign bonds should increase and should result in a decline in bond yields. This is the main assumption which we are testing the validity of. \n",
    "\n",
    "### Conclusions\n"
   ]
  },
  {
   "cell_type": "code",
   "execution_count": 1,
   "metadata": {
    "collapsed": true
   },
   "outputs": [],
   "source": [
    "# First, we imported wherewithal packages.\n",
    "import pandas as pd\n",
    "import numpy as np\n",
    "import matplotlib.pyplot as plt \n",
    "import scipy.stats as stats\n",
    "import sklearn"
   ]
  },
  {
   "cell_type": "code",
   "execution_count": 2,
   "metadata": {
    "collapsed": true
   },
   "outputs": [],
   "source": [
    "# Next, we constructed our datasets as Python lists. Each list contains 120 elements. \n",
    "date = [\"1-2004\", \"2-2004\", \"3-2004\", \"4-2004\", \"5-2004\", \"6-2004\", \"7-2004\", \"8-2004\", \"9-2004\", \"10-2004\",\"11-2004\", \"12-2004\", \"1-2005\", \"2-2005\", \"3-2005\",\"4-2005\", \"5-2005\", \"6-2005\", \"7-2005\", \"8-2005\", \"9-2005\", \"10-2005\", \"11-2005\", \"12-2005\", \"1-2006\", \"2-2006\", \"3-2006\", \"4-2006\", \"5-2006\", \"6-2006\", \"7-2006\", \"8-2006\", \"9-2006\", \"10-2006\", \"11-2006\",\"12-2006\", \"1-2007\", \"2-2007\", \"3-2007\", \"4-2007\", \"5-2007\", \"6-2007\", \"7-2007\", \"8-2007\", \"9-2007\",\"10-2007\", \"11-2007\", \"12-2007\", \"1-2008\", \"2-2008\", \"3-2008\", \"4-2008\", \"5-2008\", \"6-2008\", \"7-2008\", \"8-2008\", \"9-2008\", \"10-2008\", \"11-2008\", \"12-2008\", \"1-2009\", \"2-2009\", \"3-2009\", \"4-2009\", \"5-2009\", \"6-2009\", \"7-2009\", \"8-2009\", \"9-2009\", \"10-2009\", \"11-2009\", \"12-2009\", \"1-2010\", \"2-2010\", \"3-2010\", \"4-2010\",\"5-2010\", \"6-2010\", \"7-2010\", \"8-2010\", \"9-2010\", \"10-2010\",\"11-2010\", \"12-2010\", \"1-2011\", \"2-2011\", \"3-2011\", \"4-2011\",\"5-2011\", \"6-2011\", \"7-2011\", \"8-2011\", \"9-2011\", \"10-2011\", \"11-2011\", \"12-2011\", \"1-2012\", \"2-2012\", \"3-2012\", \"4-2012\", \"5-2012\", \"6-2012\", \"7-2012\", \"8-2012\", \"9-2012\", \"10-2012\", \"11-2012\", \"12-2012\",\"1-2013\", \"2-2013\", \"3-2013\", \"4-2013\", \"5-2013\", \"6-2013\", \"7-2013\", \"8-2013\", \"9-2013\", \"10-2013\", \"11-2013\", \"12-2013\" ]\n",
    "us_yields = [4.16, 3.99, 3.86, 4.53, 4.66, 4.62, 4.5, 4.13, 4.14, 4.05, 4.36, 4.24, 4.14, 4.36, 4.5, 4.21, 4.00, 3.94, 4.28, 4.02, 4.34, 4.57, 4.49, 4.39, 4.53, 4.55, 4.86, 5.07, 5.12, 5.15, 4.99, 4.74, 4.64, 4.61, 4.46, 4.71, 4.83, 4.56, 4.65, 4.63, 4.90, 5.03, 4.78, 4.54, 4.59, 4.48, 3.97, 4.04, 3.67, 3.53, 3.45, 3.77, 4.06, 3.99, 3.99, 3.83, 3.85, 4.01, 2.93, 2.25, 2.87, 3.02, 2.71, 3.16, 3.47, 3.53, 3.52, 3.40, 3.31, 3.41, 3.21, 3.85, 3.63, 3.61, 3.84, 3.69, 3.31, 2.97, 2.94, 2.47, 2.53, 2.63, 2.81, 3.30, 3.42, 3.42, 3.47, 3.32, 3.05, 3.18, 2.82, 2.23, 1.92, 2.17, 2.08, 1.89, 1.83, 1.98, 2.23, 1.95, 1.59, 1.67, 1.51, 1.57, 1.65, 1.72, 1.62, 1.78, 2.02, 1.89, 1.87, 1.70, 2.16, 2.52, 2.60, 2.78, 2.64, 2.57, 2.75, 3.04,   ]\n",
    "us_rates = [1.067, 1.079, 1.095, 1.095, 1.085, 1.591, 1.378, 1.625, 1.805, 1.885, 2.128, 2.346, 2.523, 2.646, 2.848, 3.043, 3.104, 3.266, 3.364, 3.620, 3.945, 4.063, 4.077, 4.341, 4.535, 4.597, 4.799, 4.822, 5.121, 5.171, 5.343, 5.293, 5.375, 5.330, 5.330, 5.343, 5.331, 5.345, 5.360, 5.298, 5.364, 5.500, 5.434, 5.588, 5.094, 5.006, 4.716, 4.823, 3.164, 3.162, 3.181, 2.655, 2.539, 3.606, 2.416, 2.249, 6.875, 0.406, 1.163, 0.135, 0.305, 0.363, 0.510, 0.213, 0.271, 0.278, 0.235, 0.229, 0.211, 0.179, 0.183, 0.169, 0.173, 0.174, 0.225, 0.263, 0.299, 0.306, 0.241, 0.228, 0.226, 0.226, 0.236, 0.252, 0.235, 0.226, 0.184, 0.134, 0.128, 0.128, 0.131, 0.147, 0.152, 0.142, 0.145, 0.154, 0.140, 0.139, 0.153, 0.147, 0.156, 0.169, 0.161, 0.150, 0.152, 0.156, 0.161, 0.168, 0.154, 0.153, 0.156, 0.147, 0.132, 0.125, 0.119, 0.116, 0.105, 0.104, 0.105, 0.079 ]\n",
    "vix_dat = [16.63, 14.55, 16.74, 17.19, 15.5, 14.34, 15.32, 15.44, 13.34, 16.27, 13.24, 13.29, 12.82, 12.08, 14.02, 15.31, 13.29, 12.04, 11.57, 12.6, 12.95, 12.34, 11.39, 11.59, 16.44, 13.08, 14.95, 12.31, 11.98, 11.1, 10.91, 11.56, 10.42, 15.42, 14.64, 14.22, 13.05, 16.23, 23.52, 23.38, 18, 18.53, 23.97, 22.5, 26.2, 26.54, 25.61, 20.79, 17.83, 23.95, 22.94, 20.65, 39.39, 59.89, 55.28, 40, 44.84, 46.35, 44.14, 36.5, 28.92, 26.35, 25.92, 26.01, 25.61, 30.69, 24.51, 21.68, 24.62, 19.5, 17.59, 22.05, 32.07, 34.54, 23.5, 26.05, 23.7, 21.2, 23.54, 17.75, 19.53, 18.35, 17.74, 14.75, 15.45, 16.52, 25.25, 31.62, 42.96, 29.96, 27.8, 23.4, 19.44, 18.43, 15.5, 17.15, 24.14, 26.66, 18.93, 17.47, 15.73, 18.6, 15.87, 18.02, 14.28, 15.51, 12.7, 13.52, 16.3, 16.86, 13.45, 17.01, 16.6, 13.75, 13.7, 13.72, 18.41, 14, 13.88, 13.41 ]"
   ]
  },
  {
   "cell_type": "code",
   "execution_count": 3,
   "metadata": {
    "collapsed": true
   },
   "outputs": [],
   "source": [
    "# To work on our datasets more easily, we constructed a dictionary which consists of three lists that are forementioned. Then we turned this dictionary into a DataFrame. \n",
    "vix_dict = {\"Month/Year\":date, \"Market Volatility\":vix_dat, \"Bond Yields\":us_yields, \"LIBOR Effective Interest Rate\":us_rates }\n",
    "vix_frame = pd.DataFrame(vix_dict)"
   ]
  },
  {
   "cell_type": "code",
   "execution_count": 4,
   "metadata": {},
   "outputs": [
    {
     "name": "stdout",
     "output_type": "stream",
     "text": [
      "     Bond Yields  LIBOR Effective Interest Rate  Market Volatility Month/Year\n",
      "0           4.16                          1.067              16.63     1-2004\n",
      "1           3.99                          1.079              14.55     2-2004\n",
      "2           3.86                          1.095              16.74     3-2004\n",
      "3           4.53                          1.095              17.19     4-2004\n",
      "4           4.66                          1.085              15.50     5-2004\n",
      "5           4.62                          1.591              14.34     6-2004\n",
      "6           4.50                          1.378              15.32     7-2004\n",
      "7           4.13                          1.625              15.44     8-2004\n",
      "8           4.14                          1.805              13.34     9-2004\n",
      "9           4.05                          1.885              16.27    10-2004\n",
      "10          4.36                          2.128              13.24    11-2004\n",
      "11          4.24                          2.346              13.29    12-2004\n",
      "12          4.14                          2.523              12.82     1-2005\n",
      "13          4.36                          2.646              12.08     2-2005\n",
      "14          4.50                          2.848              14.02     3-2005\n",
      "15          4.21                          3.043              15.31     4-2005\n",
      "16          4.00                          3.104              13.29     5-2005\n",
      "17          3.94                          3.266              12.04     6-2005\n",
      "18          4.28                          3.364              11.57     7-2005\n",
      "19          4.02                          3.620              12.60     8-2005\n",
      "20          4.34                          3.945              12.95     9-2005\n",
      "21          4.57                          4.063              12.34    10-2005\n",
      "22          4.49                          4.077              11.39    11-2005\n",
      "23          4.39                          4.341              11.59    12-2005\n",
      "24          4.53                          4.535              16.44     1-2006\n",
      "25          4.55                          4.597              13.08     2-2006\n",
      "26          4.86                          4.799              14.95     3-2006\n",
      "27          5.07                          4.822              12.31     4-2006\n",
      "28          5.12                          5.121              11.98     5-2006\n",
      "29          5.15                          5.171              11.10     6-2006\n",
      "..           ...                            ...                ...        ...\n",
      "90          2.82                          0.131              27.80     7-2011\n",
      "91          2.23                          0.147              23.40     8-2011\n",
      "92          1.92                          0.152              19.44     9-2011\n",
      "93          2.17                          0.142              18.43    10-2011\n",
      "94          2.08                          0.145              15.50    11-2011\n",
      "95          1.89                          0.154              17.15    12-2011\n",
      "96          1.83                          0.140              24.14     1-2012\n",
      "97          1.98                          0.139              26.66     2-2012\n",
      "98          2.23                          0.153              18.93     3-2012\n",
      "99          1.95                          0.147              17.47     4-2012\n",
      "100         1.59                          0.156              15.73     5-2012\n",
      "101         1.67                          0.169              18.60     6-2012\n",
      "102         1.51                          0.161              15.87     7-2012\n",
      "103         1.57                          0.150              18.02     8-2012\n",
      "104         1.65                          0.152              14.28     9-2012\n",
      "105         1.72                          0.156              15.51    10-2012\n",
      "106         1.62                          0.161              12.70    11-2012\n",
      "107         1.78                          0.168              13.52    12-2012\n",
      "108         2.02                          0.154              16.30     1-2013\n",
      "109         1.89                          0.153              16.86     2-2013\n",
      "110         1.87                          0.156              13.45     3-2013\n",
      "111         1.70                          0.147              17.01     4-2013\n",
      "112         2.16                          0.132              16.60     5-2013\n",
      "113         2.52                          0.125              13.75     6-2013\n",
      "114         2.60                          0.119              13.70     7-2013\n",
      "115         2.78                          0.116              13.72     8-2013\n",
      "116         2.64                          0.105              18.41     9-2013\n",
      "117         2.57                          0.104              14.00    10-2013\n",
      "118         2.75                          0.105              13.88    11-2013\n",
      "119         3.04                          0.079              13.41    12-2013\n",
      "\n",
      "[120 rows x 4 columns]\n"
     ]
    }
   ],
   "source": [
    "# In this step, we printed out our DataFrame to take a closer look at our data.\n",
    "print(vix_frame)"
   ]
  },
  {
   "cell_type": "code",
   "execution_count": 5,
   "metadata": {},
   "outputs": [
    {
     "data": {
      "image/png": "[encoded data removed]",
      "text/plain": [
       "<matplotlib.figure.Figure at 0x1169bf4a8>"
      ]
     },
     "metadata": {},
     "output_type": "display_data"
    }
   ],
   "source": [
    "# To visualize US Bond Yields data, we used a scatter plot for historical data of it. We used \"s\" command to enlarge the data dots proportionally to corresponding US Bond Yield data.  \n",
    "plt.xlabel(\"Date\")\n",
    "plt.ylabel(\"US Bond Yields\")\n",
    "plt.scatter(date, us_yields, s=vix_dat)\n",
    "plt.show()"
   ]
  },
  {
   "cell_type": "code",
   "execution_count": 6,
   "metadata": {},
   "outputs": [
    {
     "data": {
      "image/png": "[encoded data removed]",
      "text/plain": [
       "<matplotlib.figure.Figure at 0x11bd49748>"
      ]
     },
     "metadata": {},
     "output_type": "display_data"
    }
   ],
   "source": [
    "# To visualize Volatility data, again we used a scatter plot for historical data of it. \n",
    "plt.xlabel(\"Date\")\n",
    "plt.ylabel(\"VIX Volatility Index\")\n",
    "plt.scatter(date, vix_dat)\n",
    "plt.show()"
   ]
  },
  {
   "cell_type": "code",
   "execution_count": 7,
   "metadata": {},
   "outputs": [
    {
     "data": {
      "image/png": "[encoded data removed]",
      "text/plain": [
       "<matplotlib.figure.Figure at 0x11bf8a6d8>"
      ]
     },
     "metadata": {},
     "output_type": "display_data"
    }
   ],
   "source": [
    "plt.xlabel(\"Date\")\n",
    "plt.ylabel(\"USD Effective Interest Rate\")\n",
    "plt.scatter(date, us_rates)\n",
    "plt.show()"
   ]
  },
  {
   "cell_type": "code",
   "execution_count": 8,
   "metadata": {},
   "outputs": [
    {
     "data": {
      "image/png": "[encoded data removed]",
      "text/plain": [
       "<matplotlib.figure.Figure at 0x11be7d0b8>"
      ]
     },
     "metadata": {},
     "output_type": "display_data"
    }
   ],
   "source": [
    "# As a final visualization purpose, we created a cross-scatter plot for volatility and bond yield datasets to check for clear consistencies with the theoretical assumptions. \n",
    "plt.hist(vix_dat, bins=20)\n",
    "plt.xlabel(\"Market Volatility\")\n",
    "plt.ylabel(\"Frequency\")\n",
    "plt.show()"
   ]
  },
  {
   "cell_type": "code",
   "execution_count": 9,
   "metadata": {},
   "outputs": [
    {
     "data": {
      "image/png": "[encoded data removed]",
      "text/plain": [
       "<matplotlib.figure.Figure at 0x11bf265f8>"
      ]
     },
     "metadata": {},
     "output_type": "display_data"
    }
   ],
   "source": [
    "# To examine the distribution of data, we used a histogram to demonstrate the basic characteristics of Bond Yields data.\n",
    "plt.hist(us_yields, bins=20)\n",
    "plt.xlabel(\"Bond Yields\")\n",
    "plt.ylabel(\"Frequency\")\n",
    "plt.show()"
   ]
  },
  {
   "cell_type": "code",
   "execution_count": 10,
   "metadata": {},
   "outputs": [
    {
     "data": {
      "image/png": "[encoded data removed]",
      "text/plain": [
       "<matplotlib.figure.Figure at 0x1169bdb70>"
      ]
     },
     "metadata": {},
     "output_type": "display_data"
    }
   ],
   "source": [
    "plt.hist(us_rates, bins=20)\n",
    "plt.xlabel(\"USD Effective Interest Rate\")\n",
    "plt.ylabel(\"Frequency\")\n",
    "plt.show()"
   ]
  },
  {
   "cell_type": "code",
   "execution_count": 11,
   "metadata": {},
   "outputs": [
    {
     "data": {
      "image/png": "[encoded data removed]",
      "text/plain": [
       "<matplotlib.figure.Figure at 0x11bd05f98>"
      ]
     },
     "metadata": {},
     "output_type": "display_data"
    }
   ],
   "source": [
    "plt.xlabel(\"Bond Yields\")\n",
    "plt.ylabel(\"VIX\")\n",
    "plt.scatter(us_yields, vix_dat, color='red')\n",
    "plt.show()"
   ]
  },
  {
   "cell_type": "code",
   "execution_count": 12,
   "metadata": {},
   "outputs": [
    {
     "data": {
      "image/png": "[encoded data removed]",
      "text/plain": [
       "<matplotlib.figure.Figure at 0x11bfb8710>"
      ]
     },
     "metadata": {},
     "output_type": "display_data"
    }
   ],
   "source": [
    "plt.xlabel(\"USD Effective Interest Rate\")\n",
    "plt.ylabel(\"VIX\")\n",
    "plt.scatter(us_rates, vix_dat, color='blue')\n",
    "plt.show()"
   ]
  },
  {
   "cell_type": "code",
   "execution_count": 13,
   "metadata": {
    "collapsed": true
   },
   "outputs": [],
   "source": [
    "# We transformed our Python lists into numpy arrays for the purpose of conducting further examinations, if needed. \n",
    "np_vix_dat = np.array(vix_dat)\n",
    "np_us_yields = np.array(us_yields)\n",
    "np_us_rates = np.array(us_rates)"
   ]
  },
  {
   "cell_type": "code",
   "execution_count": 14,
   "metadata": {},
   "outputs": [
    {
     "data": {
      "text/plain": [
       "array([[ 1.        , -0.05992909],\n",
       "       [-0.05992909,  1.        ]])"
      ]
     },
     "execution_count": 14,
     "metadata": {},
     "output_type": "execute_result"
    }
   ],
   "source": [
    "# In the next two coding lines, we created simple statistical figures for volatility and US Bond Yields datasets. \n",
    "np.corrcoef(vix_dat, us_yields)"
   ]
  },
  {
   "cell_type": "markdown",
   "metadata": {},
   "source": [
    "This statistic shows that direction of the correlation complies with theoretical assumption, though the strength of correlation is minuscule. "
   ]
  },
  {
   "cell_type": "code",
   "execution_count": 15,
   "metadata": {},
   "outputs": [
    {
     "data": {
      "text/plain": [
       "array([[ 1.       , -0.1082049],\n",
       "       [-0.1082049,  1.       ]])"
      ]
     },
     "execution_count": 15,
     "metadata": {},
     "output_type": "execute_result"
    }
   ],
   "source": [
    "np.corrcoef(vix_dat, us_rates)"
   ]
  },
  {
   "cell_type": "code",
   "execution_count": 16,
   "metadata": {},
   "outputs": [
    {
     "data": {
      "text/plain": [
       "1.8811333333333333"
      ]
     },
     "execution_count": 16,
     "metadata": {},
     "output_type": "execute_result"
    }
   ],
   "source": [
    "np.mean(vix_dat) \n",
    "np.mean(us_yields)\n",
    "np.mean(us_rates)"
   ]
  },
  {
   "cell_type": "code",
   "execution_count": 17,
   "metadata": {
    "collapsed": true
   },
   "outputs": [],
   "source": [
    "# Here, we constructed 4 arguments to sort our data into 4 main states of interest.  \n",
    "low_volatility = vix_dat < np.mean(vix_dat)\n",
    "high_volatility = vix_dat > np.mean(vix_dat)\n",
    "low_yield = us_yields < np.mean(us_yields)\n",
    "high_yield = us_yields > np.mean(us_yields)"
   ]
  },
  {
   "cell_type": "code",
   "execution_count": 18,
   "metadata": {
    "collapsed": true
   },
   "outputs": [],
   "source": [
    "# To check how many periods comply with theoretical assumptions and how many periods do not, we structured our arguments in coding language Python and used numpy logical codes to check for multiple conditions at the same time.\n",
    "theoretical_prediction_1 = np.logical_and(high_yield, low_volatility)\n",
    "theoretical_prediction_2 = np.logical_and(low_yield, high_volatility)"
   ]
  },
  {
   "cell_type": "code",
   "execution_count": 19,
   "metadata": {
    "collapsed": true
   },
   "outputs": [],
   "source": [
    "# To transform the boolean responses we would have from print(low_volatility) and print(high_volatility) commands, we created different lists which would contain the corresponding integers. \n",
    "volatility_up = np_vix_dat[high_volatility]\n",
    "volatility_down = np_vix_dat[low_volatility]"
   ]
  },
  {
   "cell_type": "code",
   "execution_count": 20,
   "metadata": {},
   "outputs": [
    {
     "name": "stdout",
     "output_type": "stream",
     "text": [
      "[ True  True  True  True  True  True  True  True  True  True  True  True\n",
      "  True  True  True  True  True  True  True  True  True  True  True  True\n",
      "  True  True  True  True  True  True  True  True  True  True  True  True\n",
      "  True  True False False  True  True False False False False False False\n",
      "  True False False False False False False False False False False False\n",
      " False False False False False False False False False  True  True False\n",
      " False False False False False False False  True  True  True  True  True\n",
      "  True  True False False False False False False  True  True  True  True\n",
      " False False  True  True  True  True  True  True  True  True  True  True\n",
      "  True  True  True  True  True  True  True  True  True  True  True  True]\n"
     ]
    }
   ],
   "source": [
    "print(low_volatility)"
   ]
  },
  {
   "cell_type": "code",
   "execution_count": 21,
   "metadata": {
    "collapsed": true
   },
   "outputs": [],
   "source": [
    "# After printing low volatility periods and identifying them, we created another list which would contain all the low volatility periods data. \n",
    "corresponding_yields_low = us_yields[0:38] + us_yields[40:42] + us_yields[48:49] + us_yields[69:71] + us_yields[92:96] + us_yields[98: ] + us_yields[79:86]  "
   ]
  },
  {
   "cell_type": "code",
   "execution_count": 22,
   "metadata": {},
   "outputs": [
    {
     "data": {
      "text/plain": [
       "array([[ 1.        , -0.52411325],\n",
       "       [-0.52411325,  1.        ]])"
      ]
     },
     "execution_count": 22,
     "metadata": {},
     "output_type": "execute_result"
    }
   ],
   "source": [
    "# Here, we check the correlation coefficient for VIX index of low volatility periods and US Bond Yields data of the same time periods. \n",
    "np.corrcoef(volatility_down, corresponding_yields_low)"
   ]
  },
  {
   "cell_type": "markdown",
   "metadata": {},
   "source": [
    "The correlation coefficient between VIX and US Bond Yields during periods with low volatility is -0.5241, which demonstrates a stronger relationship than the entire-data correlation coefficient while the direction of relationship is still in line with monetary theory predictions. "
   ]
  },
  {
   "cell_type": "code",
   "execution_count": 23,
   "metadata": {},
   "outputs": [
    {
     "name": "stdout",
     "output_type": "stream",
     "text": [
      "[False False False False False False False False False False False False\n",
      " False False False False False False False False False False False False\n",
      " False False False False False False False False False False False False\n",
      " False False  True  True False False  True  True  True  True  True  True\n",
      " False  True  True  True  True  True  True  True  True  True  True  True\n",
      "  True  True  True  True  True  True  True  True  True False False  True\n",
      "  True  True  True  True  True  True  True False False False False False\n",
      " False False  True  True  True  True  True  True False False False False\n",
      "  True  True False False False False False False False False False False\n",
      " False False False False False False False False False False False False]\n"
     ]
    }
   ],
   "source": [
    "print(high_volatility)"
   ]
  },
  {
   "cell_type": "code",
   "execution_count": 24,
   "metadata": {
    "collapsed": true
   },
   "outputs": [],
   "source": [
    "corresponding_yields_high = us_yields[38:40] +  us_yields[42:48] + us_yields[49:69] + us_yields[71:79] + us_yields[98:104] + us_yields[108:110] "
   ]
  },
  {
   "cell_type": "code",
   "execution_count": 25,
   "metadata": {},
   "outputs": [
    {
     "data": {
      "text/plain": [
       "array([[ 1.        ,  0.01505077],\n",
       "       [ 0.01505077,  1.        ]])"
      ]
     },
     "execution_count": 25,
     "metadata": {},
     "output_type": "execute_result"
    }
   ],
   "source": [
    "# After gathering the results for low volatility periods, we used the same method for high volatility periods. \n",
    "np.corrcoef(volatility_up, corresponding_yields_high)"
   ]
  },
  {
   "cell_type": "markdown",
   "metadata": {},
   "source": [
    "The correlation coefficient between VIX and US Bond Yields during periods with high volatility is 0.0150, which demonstrates a weaker relationship than the whole-data correlation coefficient while the direction of relationship goes out of monetary theory predictions. "
   ]
  },
  {
   "cell_type": "code",
   "execution_count": 26,
   "metadata": {
    "collapsed": true
   },
   "outputs": [],
   "source": [
    "corresponding_rates_low = us_rates[0:38] + us_rates[40:42] + us_rates[48:49] + us_rates[69:71] + us_rates[92:96] + us_rates[98: ] + us_rates[79:86]\n",
    "corresponding_rates_high = us_rates[38:40] + us_rates[42:48] + us_rates[49:69] + us_rates[71:79] + us_rates[98:104] + us_rates[108:110]"
   ]
  },
  {
   "cell_type": "code",
   "execution_count": 27,
   "metadata": {},
   "outputs": [
    {
     "data": {
      "text/plain": [
       "array([[ 1.        ,  0.05225503],\n",
       "       [ 0.05225503,  1.        ]])"
      ]
     },
     "execution_count": 27,
     "metadata": {},
     "output_type": "execute_result"
    }
   ],
   "source": [
    "np.corrcoef(volatility_up, corresponding_rates_high)"
   ]
  },
  {
   "cell_type": "code",
   "execution_count": 28,
   "metadata": {},
   "outputs": [
    {
     "data": {
      "text/plain": [
       "array([[ 1.        , -0.49572329],\n",
       "       [-0.49572329,  1.        ]])"
      ]
     },
     "execution_count": 28,
     "metadata": {},
     "output_type": "execute_result"
    }
   ],
   "source": [
    "np.corrcoef(volatility_down, corresponding_rates_low)"
   ]
  },
  {
   "cell_type": "code",
   "execution_count": 29,
   "metadata": {},
   "outputs": [
    {
     "name": "stdout",
     "output_type": "stream",
     "text": [
      "                            OLS Regression Results                            \n",
      "==============================================================================\n",
      "Dep. Variable:              us_yields   R-squared:                       0.004\n",
      "Model:                            OLS   Adj. R-squared:                 -0.005\n",
      "Method:                 Least Squares   F-statistic:                    0.4253\n",
      "Date:                Wed, 24 Jan 2018   Prob (F-statistic):              0.516\n",
      "Time:                        17:45:46   Log-Likelihood:                -172.71\n",
      "No. Observations:                 120   AIC:                             349.4\n",
      "Df Residuals:                     118   BIC:                             355.0\n",
      "Df Model:                           1                                         \n",
      "Covariance Type:            nonrobust                                         \n",
      "==============================================================================\n",
      "                 coef    std err          t      P>|t|      [0.025      0.975]\n",
      "------------------------------------------------------------------------------\n",
      "Intercept      3.6205      0.230     15.751      0.000       3.165       4.076\n",
      "vix_dat       -0.0067      0.010     -0.652      0.516      -0.027       0.014\n",
      "==============================================================================\n",
      "Omnibus:                       22.339   Durbin-Watson:                   0.068\n",
      "Prob(Omnibus):                  0.000   Jarque-Bera (JB):                8.484\n",
      "Skew:                          -0.409   Prob(JB):                       0.0144\n",
      "Kurtosis:                       1.986   Cond. No.                         54.7\n",
      "==============================================================================\n",
      "\n",
      "Warnings:\n",
      "[1] Standard Errors assume that the covariance matrix of the errors is correctly specified.\n"
     ]
    }
   ],
   "source": [
    "# As our final step, we conducted a \"naive\" regression analysis between US Bond Yields and VIX volatiliy index. \n",
    "from statsmodels.formula.api import ols\n",
    "model = ols('us_yields ~ vix_dat ', vix_frame).fit()\n",
    "print(model.summary())"
   ]
  },
  {
   "cell_type": "code",
   "execution_count": 30,
   "metadata": {
    "scrolled": true
   },
   "outputs": [
    {
     "name": "stdout",
     "output_type": "stream",
     "text": [
      "                            OLS Regression Results                            \n",
      "==============================================================================\n",
      "Dep. Variable:               us_rates   R-squared:                       0.012\n",
      "Model:                            OLS   Adj. R-squared:                  0.003\n",
      "Method:                 Least Squares   F-statistic:                     1.398\n",
      "Date:                Wed, 24 Jan 2018   Prob (F-statistic):              0.239\n",
      "Time:                        17:45:48   Log-Likelihood:                -256.23\n",
      "No. Observations:                 120   AIC:                             516.5\n",
      "Df Residuals:                     118   BIC:                             522.0\n",
      "Df Model:                           1                                         \n",
      "Covariance Type:            nonrobust                                         \n",
      "==============================================================================\n",
      "                 coef    std err          t      P>|t|      [0.025      0.975]\n",
      "------------------------------------------------------------------------------\n",
      "Intercept      2.3787      0.461      5.159      0.000       1.466       3.292\n",
      "vix_dat       -0.0244      0.021     -1.182      0.239      -0.065       0.016\n",
      "==============================================================================\n",
      "Omnibus:                       23.825   Durbin-Watson:                   0.151\n",
      "Prob(Omnibus):                  0.000   Jarque-Bera (JB):               15.352\n",
      "Skew:                           0.739   Prob(JB):                     0.000464\n",
      "Kurtosis:                       2.059   Cond. No.                         54.7\n",
      "==============================================================================\n",
      "\n",
      "Warnings:\n",
      "[1] Standard Errors assume that the covariance matrix of the errors is correctly specified.\n"
     ]
    }
   ],
   "source": [
    "model = ols('us_rates ~ vix_dat', vix_frame).fit()\n",
    "print(model.summary())"
   ]
  },
  {
   "cell_type": "markdown",
   "metadata": {
    "collapsed": true
   },
   "source": [
    "### Conclusion\n",
    "The above analysis had an aim of checking Efficient Market Hypothesis and Monetary theory against investor behaviour, using VIX as a proxy for volatility. The assumption was that a US bond yields and effective interest rates are negatively correlated with the volatility of markets represented by VIX. Our results point us towards an interesting correlation. Correlation of the variables is in the correct direction in both cases however they are minimal. Taking a deeper look, we see intrinsic investor behaviour going against the EMH. Looking at low volatility periods, the correlation grows stronger to -0.52 for bonds and -0.49 for interest rates. However, in times of high volatility, the direction changes to a positive one and once again becomes minimal. Our reasoning for this is as follows: in times of low volatility, market fundamentals are fairly known and allow for more optimal investments. In those times, predictions, and their accuracy is better due to low flucuations in the market, making it easier for humans to behave like econs and adhere to EMH. Furthermore, due to lower fluctuations the underlying assumption of price carrying all the infomation bears more weight, once again making rational decisions easier.\n",
    "On the other hand, the effect is reversed and smaller during high volatility. Our explanation lies once again within the sphere of human behaviour. In times of high volatility, prices convey less infomation compared to lower volatility, this means that rational behaviour and investment is more difficult in those times, succumbing to just being humans without full information. Taking a look at this from causal effect can be used as a counter-argument; as monetary theory reasons, increase in bond yields or interest rates is a natural, dynamic reaction resulting from the actions market forces in high volatility periods, and from that perspective this correlation is reasonable.\n",
    "Finally moving onto our regressions which in both cases show no significance at any levels, these were naive regressions, with more factors considered the results could be different. Saying this, the insignificance could be a positive outcome, in-line with disproving monetary predictions. Another view on this issue is, VIX is a market index indicator, as an indicator it should represent current market conditions, however is not a condition itself. Non-significant results mean that VIX has no impact on our variables of interest; this relationship reasons that VIX is a \"snapshot\" of current market situations and those market situations affect our variables, not the indicator itself in the end being a good proxy for market volatility and further studies with regards to behaviour of humans compared to pre-set economic theories.\n",
    "To conclude, we found the predictions of monetary theory to behave in our world in case of non-divided correlation and low-volatility periods, however in times of high volatility, individuals behave opposing the established theories. \n",
    " "
   ]
  },
  {
   "cell_type": "markdown",
   "metadata": {},
   "source": [
    "### References \n",
    "Fama, Eugene F., Efficient Capital Markets: A Review of Theory and Empirical Work, Journal of Finance, Issue 25, Volume 2, 1970. \n",
    "\n",
    "Mishkin, Frederic S. and Serletis, Apostolos, The Economics of Money, Banking and Financial Markets, 4th Canadian Edition. \n",
    "\n"
   ]
  }
 ],
 "metadata": {
  "kernelspec": {
   "display_name": "Python 3",
   "language": "python",
   "name": "python3"
  },
  "language_info": {
   "codemirror_mode": {
    "name": "ipython",
    "version": 3
   },
   "file_extension": ".py",
   "mimetype": "text/x-python",
   "name": "python",
   "nbconvert_exporter": "python",
   "pygments_lexer": "ipython3",
   "version": "3.6.3"
  }
 },
 "nbformat": 4,
 "nbformat_minor": 2
}
